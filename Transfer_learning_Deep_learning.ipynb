{
  "nbformat": 4,
  "nbformat_minor": 0,
  "metadata": {
    "colab": {
      "provenance": [],
      "gpuType": "T4"
    },
    "kernelspec": {
      "name": "python3",
      "display_name": "Python 3"
    },
    "language_info": {
      "name": "python"
    },
    "accelerator": "GPU"
  },
  "cells": [
    {
      "cell_type": "markdown",
      "source": [
        "# Mobilenet V2"
      ],
      "metadata": {
        "id": "UhcvDY3EWiGr"
      }
    },
    {
      "cell_type": "code",
      "execution_count": 7,
      "metadata": {
        "id": "znoxHkKiS8zd"
      },
      "outputs": [],
      "source": [
        "import tensorflow as tf\n",
        "import tensorflow_hub as hub\n",
        "from tensorflow import keras\n",
        "import PIL\n",
        "import cv2\n",
        "import pathlib\n",
        "import numpy as np"
      ]
    },
    {
      "cell_type": "code",
      "source": [
        "model = tf.keras.Sequential([\n",
        "    hub.KerasLayer(\"https://www.kaggle.com/models/google/mobilenet-v2/TensorFlow2/035-128-classification/2\",input_shape=(128,128,3))\n",
        "])"
      ],
      "metadata": {
        "id": "WkP9CHZgTSmT"
      },
      "execution_count": 8,
      "outputs": []
    },
    {
      "cell_type": "code",
      "source": [
        "np.array(PIL.Image.open(\"Gold_fish.jpg\").resize((128,128))).reshape(1,128,128,3)"
      ],
      "metadata": {
        "colab": {
          "base_uri": "https://localhost:8080/"
        },
        "id": "b7I2Ppr9TcZg",
        "outputId": "b50b2dfd-fe22-40c7-ca61-633cc3ebc0c0"
      },
      "execution_count": 9,
      "outputs": [
        {
          "output_type": "execute_result",
          "data": {
            "text/plain": [
              "array([[[[255, 255, 255],\n",
              "         [255, 255, 255],\n",
              "         [255, 255, 255],\n",
              "         ...,\n",
              "         [255, 255, 255],\n",
              "         [255, 255, 255],\n",
              "         [255, 255, 255]],\n",
              "\n",
              "        [[255, 255, 255],\n",
              "         [255, 255, 255],\n",
              "         [255, 255, 255],\n",
              "         ...,\n",
              "         [255, 255, 255],\n",
              "         [255, 255, 255],\n",
              "         [255, 255, 255]],\n",
              "\n",
              "        [[255, 255, 255],\n",
              "         [255, 255, 255],\n",
              "         [255, 255, 255],\n",
              "         ...,\n",
              "         [255, 255, 255],\n",
              "         [255, 255, 255],\n",
              "         [255, 255, 255]],\n",
              "\n",
              "        ...,\n",
              "\n",
              "        [[255, 255, 255],\n",
              "         [255, 255, 255],\n",
              "         [255, 255, 255],\n",
              "         ...,\n",
              "         [255, 255, 255],\n",
              "         [255, 255, 255],\n",
              "         [255, 255, 255]],\n",
              "\n",
              "        [[255, 255, 255],\n",
              "         [255, 255, 255],\n",
              "         [255, 255, 255],\n",
              "         ...,\n",
              "         [255, 255, 255],\n",
              "         [255, 255, 255],\n",
              "         [255, 255, 255]],\n",
              "\n",
              "        [[255, 255, 255],\n",
              "         [255, 255, 255],\n",
              "         [255, 255, 255],\n",
              "         ...,\n",
              "         [255, 255, 255],\n",
              "         [255, 255, 255],\n",
              "         [255, 255, 255]]]], dtype=uint8)"
            ]
          },
          "metadata": {},
          "execution_count": 9
        }
      ]
    },
    {
      "cell_type": "code",
      "source": [
        "img=np.array(PIL.Image.open(\"Gold_fish.jpg\").resize((128,128))).reshape(1,128,128,3)"
      ],
      "metadata": {
        "id": "tjEFHhy5VRrr"
      },
      "execution_count": 10,
      "outputs": []
    },
    {
      "cell_type": "code",
      "source": [
        "img.shape"
      ],
      "metadata": {
        "colab": {
          "base_uri": "https://localhost:8080/"
        },
        "id": "kgyn-KmOWFKx",
        "outputId": "8a66bb00-fd89-4383-fe22-9fd4cfd5cbdf"
      },
      "execution_count": 11,
      "outputs": [
        {
          "output_type": "execute_result",
          "data": {
            "text/plain": [
              "(1, 128, 128, 3)"
            ]
          },
          "metadata": {},
          "execution_count": 11
        }
      ]
    },
    {
      "cell_type": "code",
      "source": [
        "model.summary()"
      ],
      "metadata": {
        "colab": {
          "base_uri": "https://localhost:8080/"
        },
        "id": "8WeVsZlxWJsF",
        "outputId": "10eed143-6b54-434b-c90e-09bd6134bef4"
      },
      "execution_count": 12,
      "outputs": [
        {
          "output_type": "stream",
          "name": "stdout",
          "text": [
            "Model: \"sequential_2\"\n",
            "_________________________________________________________________\n",
            " Layer (type)                Output Shape              Param #   \n",
            "=================================================================\n",
            " keras_layer_2 (KerasLayer)  (None, 1001)              1692489   \n",
            "                                                                 \n",
            "=================================================================\n",
            "Total params: 1692489 (6.46 MB)\n",
            "Trainable params: 0 (0.00 Byte)\n",
            "Non-trainable params: 1692489 (6.46 MB)\n",
            "_________________________________________________________________\n"
          ]
        }
      ]
    },
    {
      "cell_type": "code",
      "source": [
        "model.predict(img)"
      ],
      "metadata": {
        "colab": {
          "base_uri": "https://localhost:8080/"
        },
        "id": "wJptWAPiWX8m",
        "outputId": "0396ec4b-527a-4b5c-e2bc-243c2b786e0c"
      },
      "execution_count": 13,
      "outputs": [
        {
          "output_type": "stream",
          "name": "stdout",
          "text": [
            "1/1 [==============================] - 3s 3s/step\n"
          ]
        },
        {
          "output_type": "execute_result",
          "data": {
            "text/plain": [
              "array([[-0.09017253, -1.3932223 ,  3.9691787 , ..., -1.9367064 ,\n",
              "         0.45936754, -0.69347227]], dtype=float32)"
            ]
          },
          "metadata": {},
          "execution_count": 13
        }
      ]
    },
    {
      "cell_type": "code",
      "source": [
        "np.argmax(model.predict(img))"
      ],
      "metadata": {
        "colab": {
          "base_uri": "https://localhost:8080/"
        },
        "id": "vqvnPnHHWbJw",
        "outputId": "c8d08138-3432-4440-fce8-99a12e9a743f"
      },
      "execution_count": 14,
      "outputs": [
        {
          "output_type": "stream",
          "name": "stdout",
          "text": [
            "1/1 [==============================] - 0s 22ms/step\n"
          ]
        },
        {
          "output_type": "execute_result",
          "data": {
            "text/plain": [
              "905"
            ]
          },
          "metadata": {},
          "execution_count": 14
        }
      ]
    },
    {
      "cell_type": "markdown",
      "source": [
        "# Using pretrained Model for Custom classes"
      ],
      "metadata": {
        "id": "0H-gF6PYXpj0"
      }
    },
    {
      "cell_type": "code",
      "source": [
        "model = keras.models.Sequential([\n",
        "    hub.KerasLayer(\"https://www.kaggle.com/models/google/mobilenet-v2/TensorFlow2/035-128-classification/2\",input_shape=(128,128,3),trainable=False),\n",
        "    keras.layers.Dense(5,activation=\"sigmoid\")\n",
        "])\n",
        "model.compile(optimizer=\"adam\",loss=keras.losses.SparseCategoricalCrossentropy(),metrics=[\"accuracy\"])"
      ],
      "metadata": {
        "id": "IsALZg8SWekj"
      },
      "execution_count": 41,
      "outputs": []
    },
    {
      "cell_type": "code",
      "source": [
        "data_set_url= \"https://storage.googleapis.com/download.tensorflow.org/example_images/flower_photos.tgz\""
      ],
      "metadata": {
        "id": "NPU2zarrXEkN"
      },
      "execution_count": 16,
      "outputs": []
    },
    {
      "cell_type": "code",
      "source": [
        "dataset_dir_string=keras.utils.get_file(\"flower_photos\",origin=data_set_url,cache_dir=\".\",untar=True)"
      ],
      "metadata": {
        "colab": {
          "base_uri": "https://localhost:8080/"
        },
        "id": "J8S-7gWhXxKA",
        "outputId": "0668f3c0-e19f-4ca1-caf6-9ba5f5ca6437"
      },
      "execution_count": 17,
      "outputs": [
        {
          "output_type": "stream",
          "name": "stdout",
          "text": [
            "Downloading data from https://storage.googleapis.com/download.tensorflow.org/example_images/flower_photos.tgz\n",
            "228813984/228813984 [==============================] - 2s 0us/step\n"
          ]
        }
      ]
    },
    {
      "cell_type": "code",
      "source": [
        "dataset_dir_string"
      ],
      "metadata": {
        "colab": {
          "base_uri": "https://localhost:8080/",
          "height": 36
        },
        "id": "-Oa8OEHMX_60",
        "outputId": "2493aa85-bbeb-457b-95c2-52a0794bd64a"
      },
      "execution_count": 18,
      "outputs": [
        {
          "output_type": "execute_result",
          "data": {
            "text/plain": [
              "'./datasets/flower_photos'"
            ],
            "application/vnd.google.colaboratory.intrinsic+json": {
              "type": "string"
            }
          },
          "metadata": {},
          "execution_count": 18
        }
      ]
    },
    {
      "cell_type": "code",
      "source": [
        "data_dir=pathlib.Path(dataset_dir_string)"
      ],
      "metadata": {
        "id": "EPDo5VAIYIdF"
      },
      "execution_count": 19,
      "outputs": []
    },
    {
      "cell_type": "code",
      "source": [
        "data_dir"
      ],
      "metadata": {
        "colab": {
          "base_uri": "https://localhost:8080/"
        },
        "id": "2bPxn8nkYMTd",
        "outputId": "ba77cde2-9405-49fc-dc4f-24e57bddd371"
      },
      "execution_count": 21,
      "outputs": [
        {
          "output_type": "execute_result",
          "data": {
            "text/plain": [
              "PosixPath('datasets/flower_photos')"
            ]
          },
          "metadata": {},
          "execution_count": 21
        }
      ]
    },
    {
      "cell_type": "code",
      "source": [
        "all_images_count=len(list(data_dir.glob(\"*/*.jpg\")))"
      ],
      "metadata": {
        "id": "z2qiXueHYM9o"
      },
      "execution_count": 23,
      "outputs": []
    },
    {
      "cell_type": "code",
      "source": [
        "all_images_count"
      ],
      "metadata": {
        "colab": {
          "base_uri": "https://localhost:8080/"
        },
        "id": "36gd5RCpYPnu",
        "outputId": "b1c176e1-3663-466c-ac7a-eb9618b7bc78"
      },
      "execution_count": 24,
      "outputs": [
        {
          "output_type": "execute_result",
          "data": {
            "text/plain": [
              "3670"
            ]
          },
          "metadata": {},
          "execution_count": 24
        }
      ]
    },
    {
      "cell_type": "code",
      "source": [
        "all_images=list(data_dir.glob(\"*/*.jpg\"))"
      ],
      "metadata": {
        "id": "UEsDU0rFYWws"
      },
      "execution_count": 25,
      "outputs": []
    },
    {
      "cell_type": "code",
      "source": [
        "all_images[0]"
      ],
      "metadata": {
        "colab": {
          "base_uri": "https://localhost:8080/"
        },
        "id": "IAYa-NMtYj8E",
        "outputId": "129701a0-63bd-4d43-d3ac-148fe18c81f3"
      },
      "execution_count": 26,
      "outputs": [
        {
          "output_type": "execute_result",
          "data": {
            "text/plain": [
              "PosixPath('datasets/flower_photos/roses/7211616670_2d49ecb3a5_m.jpg')"
            ]
          },
          "metadata": {},
          "execution_count": 26
        }
      ]
    },
    {
      "cell_type": "code",
      "source": [
        "cv2.imread(str(all_images[0]))"
      ],
      "metadata": {
        "colab": {
          "base_uri": "https://localhost:8080/",
          "height": 280
        },
        "id": "9HWtgHWiYlKm",
        "outputId": "96e6f014-e9a5-4eab-ea75-0e1fdddfb88e"
      },
      "execution_count": 27,
      "outputs": [
        {
          "output_type": "execute_result",
          "data": {
            "text/plain": [
              "array([[[ 40,  77,  97],\n",
              "        [ 37,  74,  94],\n",
              "        [ 33,  70,  90],\n",
              "        ...,\n",
              "        [ 27,  63,  73],\n",
              "        [ 28,  67,  76],\n",
              "        [ 38,  81,  90]],\n",
              "\n",
              "       [[ 46,  86, 105],\n",
              "        [ 44,  84, 103],\n",
              "        [ 40,  80,  99],\n",
              "        ...,\n",
              "        [ 39,  74,  87],\n",
              "        [ 37,  75,  87],\n",
              "        [ 44,  86,  99]],\n",
              "\n",
              "       [[ 41,  84, 103],\n",
              "        [ 41,  84, 103],\n",
              "        [ 38,  81, 100],\n",
              "        ...,\n",
              "        [ 45,  80,  94],\n",
              "        [ 40,  79,  93],\n",
              "        [ 50,  91, 106]],\n",
              "\n",
              "       ...,\n",
              "\n",
              "       [[111, 119, 108],\n",
              "        [117, 126, 113],\n",
              "        [121, 130, 117],\n",
              "        ...,\n",
              "        [ 64,  82,  83],\n",
              "        [ 66,  84,  85],\n",
              "        [ 68,  86,  87]],\n",
              "\n",
              "       [[125, 133, 122],\n",
              "        [120, 128, 117],\n",
              "        [116, 124, 113],\n",
              "        ...,\n",
              "        [ 60,  79,  76],\n",
              "        [ 62,  81,  78],\n",
              "        [ 62,  83,  80]],\n",
              "\n",
              "       [[113, 121, 110],\n",
              "        [115, 123, 112],\n",
              "        [120, 128, 118],\n",
              "        ...,\n",
              "        [ 57,  78,  70],\n",
              "        [ 58,  79,  71],\n",
              "        [ 57,  80,  72]]], dtype=uint8)"
            ],
            "text/html": [
              "<style>\n",
              "      .ndarray_repr .ndarray_raw_data {\n",
              "        display: none;\n",
              "      }\n",
              "      .ndarray_repr.show_array .ndarray_raw_data {\n",
              "        display: block;\n",
              "      }\n",
              "      .ndarray_repr.show_array .ndarray_image_preview {\n",
              "        display: none;\n",
              "      }\n",
              "      </style>\n",
              "      <div id=\"id-d7680328-3e23-43a0-99d5-ca0f171fc3b8\" class=\"ndarray_repr\"><pre>ndarray (240, 180, 3) <button style=\"padding: 0 2px;\">show data</button></pre><img src=\"data:image/png;base64,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\" class=\"ndarray_image_preview\" /><pre class=\"ndarray_raw_data\">array([[[ 40,  77,  97],\n",
              "        [ 37,  74,  94],\n",
              "        [ 33,  70,  90],\n",
              "        ...,\n",
              "        [ 27,  63,  73],\n",
              "        [ 28,  67,  76],\n",
              "        [ 38,  81,  90]],\n",
              "\n",
              "       [[ 46,  86, 105],\n",
              "        [ 44,  84, 103],\n",
              "        [ 40,  80,  99],\n",
              "        ...,\n",
              "        [ 39,  74,  87],\n",
              "        [ 37,  75,  87],\n",
              "        [ 44,  86,  99]],\n",
              "\n",
              "       [[ 41,  84, 103],\n",
              "        [ 41,  84, 103],\n",
              "        [ 38,  81, 100],\n",
              "        ...,\n",
              "        [ 45,  80,  94],\n",
              "        [ 40,  79,  93],\n",
              "        [ 50,  91, 106]],\n",
              "\n",
              "       ...,\n",
              "\n",
              "       [[111, 119, 108],\n",
              "        [117, 126, 113],\n",
              "        [121, 130, 117],\n",
              "        ...,\n",
              "        [ 64,  82,  83],\n",
              "        [ 66,  84,  85],\n",
              "        [ 68,  86,  87]],\n",
              "\n",
              "       [[125, 133, 122],\n",
              "        [120, 128, 117],\n",
              "        [116, 124, 113],\n",
              "        ...,\n",
              "        [ 60,  79,  76],\n",
              "        [ 62,  81,  78],\n",
              "        [ 62,  83,  80]],\n",
              "\n",
              "       [[113, 121, 110],\n",
              "        [115, 123, 112],\n",
              "        [120, 128, 118],\n",
              "        ...,\n",
              "        [ 57,  78,  70],\n",
              "        [ 58,  79,  71],\n",
              "        [ 57,  80,  72]]], dtype=uint8)</pre></div><script>\n",
              "      (() => {\n",
              "      const titles = ['show data', 'hide data'];\n",
              "      let index = 0\n",
              "      document.querySelector('#id-d7680328-3e23-43a0-99d5-ca0f171fc3b8 button').onclick = (e) => {\n",
              "        document.querySelector('#id-d7680328-3e23-43a0-99d5-ca0f171fc3b8').classList.toggle('show_array');\n",
              "        index = (++index) % 2;\n",
              "        document.querySelector('#id-d7680328-3e23-43a0-99d5-ca0f171fc3b8 button').textContent = titles[index];\n",
              "        e.preventDefault();\n",
              "        e.stopPropagation();\n",
              "      }\n",
              "      })();\n",
              "    </script>"
            ]
          },
          "metadata": {},
          "execution_count": 27
        }
      ]
    },
    {
      "cell_type": "code",
      "source": [
        "flowers_images_dict = {\n",
        "    'roses': list(data_dir.glob('roses/*')),\n",
        "    'daisy': list(data_dir.glob('daisy/*')),\n",
        "    'dandelion': list(data_dir.glob('dandelion/*')),\n",
        "    'sunflowers': list(data_dir.glob('sunflowers/*')),\n",
        "    'tulips': list(data_dir.glob('tulips/*')),\n",
        "}"
      ],
      "metadata": {
        "id": "2PkERxn-ZAYM"
      },
      "execution_count": 28,
      "outputs": []
    },
    {
      "cell_type": "code",
      "source": [
        "flowers_labels_dict = {\n",
        "    'roses': 0,\n",
        "    'daisy': 1,\n",
        "    'dandelion': 2,\n",
        "    'sunflowers': 3,\n",
        "    'tulips': 4,\n",
        "}"
      ],
      "metadata": {
        "id": "tjaGah1BZCIL"
      },
      "execution_count": 29,
      "outputs": []
    },
    {
      "cell_type": "code",
      "source": [
        "x,y=[],[]\n",
        "for flower_name,image_path in flowers_images_dict.items():\n",
        "  for image in image_path:\n",
        "    img=cv2.imread(str(image))\n",
        "    resize_img=cv2.resize(img,(128,128))\n",
        "    x.append(resize_img)\n",
        "    y.append(flowers_labels_dict[flower_name])"
      ],
      "metadata": {
        "id": "JVAY8Nx6YqmQ"
      },
      "execution_count": 30,
      "outputs": []
    },
    {
      "cell_type": "code",
      "source": [
        "x=np.array(x)\n",
        "y=np.array(y)"
      ],
      "metadata": {
        "id": "pDAUjkAhZha-"
      },
      "execution_count": 31,
      "outputs": []
    },
    {
      "cell_type": "code",
      "source": [
        "from sklearn.model_selection import train_test_split"
      ],
      "metadata": {
        "id": "KkdkaP_rZnGj"
      },
      "execution_count": 32,
      "outputs": []
    },
    {
      "cell_type": "code",
      "source": [
        "X_train,X_test,y_train,y_test=train_test_split(x,y,random_state=42)"
      ],
      "metadata": {
        "id": "v7jVP7wkZu0l"
      },
      "execution_count": 33,
      "outputs": []
    },
    {
      "cell_type": "code",
      "source": [
        "X_train.shape"
      ],
      "metadata": {
        "colab": {
          "base_uri": "https://localhost:8080/"
        },
        "id": "7ZkVzBFrZz5V",
        "outputId": "93ddfb00-84de-491d-d2fd-c7ff6bf7787b"
      },
      "execution_count": 34,
      "outputs": [
        {
          "output_type": "execute_result",
          "data": {
            "text/plain": [
              "(2752, 128, 128, 3)"
            ]
          },
          "metadata": {},
          "execution_count": 34
        }
      ]
    },
    {
      "cell_type": "code",
      "source": [
        "X_test.shape"
      ],
      "metadata": {
        "colab": {
          "base_uri": "https://localhost:8080/"
        },
        "id": "27K3OBlDZ2_w",
        "outputId": "cd86b9c5-2777-45b4-ce26-7944528177eb"
      },
      "execution_count": 35,
      "outputs": [
        {
          "output_type": "execute_result",
          "data": {
            "text/plain": [
              "(918, 128, 128, 3)"
            ]
          },
          "metadata": {},
          "execution_count": 35
        }
      ]
    },
    {
      "cell_type": "code",
      "source": [
        "X_train_scaled=X_train/255.0\n",
        "X_test_scaled=X_test/255.0"
      ],
      "metadata": {
        "id": "fwyZaUPLZ4T-"
      },
      "execution_count": 36,
      "outputs": []
    },
    {
      "cell_type": "code",
      "source": [
        "model.fit(X_train_scaled,y_train,epochs=30)"
      ],
      "metadata": {
        "colab": {
          "base_uri": "https://localhost:8080/"
        },
        "id": "-Nxk2K25Z-mm",
        "outputId": "820e55e7-3580-4f24-f983-e9b97463640e"
      },
      "execution_count": 42,
      "outputs": [
        {
          "output_type": "stream",
          "name": "stdout",
          "text": [
            "Epoch 1/30\n",
            "86/86 [==============================] - 6s 10ms/step - loss: 1.0881 - accuracy: 0.6464\n",
            "Epoch 2/30\n",
            "86/86 [==============================] - 1s 11ms/step - loss: 0.6244 - accuracy: 0.7823\n",
            "Epoch 3/30\n",
            "86/86 [==============================] - 1s 14ms/step - loss: 0.5327 - accuracy: 0.8125\n",
            "Epoch 4/30\n",
            "86/86 [==============================] - 1s 14ms/step - loss: 0.4747 - accuracy: 0.8285\n",
            "Epoch 5/30\n",
            "86/86 [==============================] - 1s 13ms/step - loss: 0.4350 - accuracy: 0.8467\n",
            "Epoch 6/30\n",
            "86/86 [==============================] - 1s 10ms/step - loss: 0.4019 - accuracy: 0.8539\n",
            "Epoch 7/30\n",
            "86/86 [==============================] - 1s 10ms/step - loss: 0.3744 - accuracy: 0.8735\n",
            "Epoch 8/30\n",
            "86/86 [==============================] - 1s 12ms/step - loss: 0.3578 - accuracy: 0.8728\n",
            "Epoch 9/30\n",
            "86/86 [==============================] - 1s 10ms/step - loss: 0.3507 - accuracy: 0.8710\n",
            "Epoch 10/30\n",
            "86/86 [==============================] - 1s 10ms/step - loss: 0.3209 - accuracy: 0.8874\n",
            "Epoch 11/30\n",
            "86/86 [==============================] - 1s 10ms/step - loss: 0.3029 - accuracy: 0.8972\n",
            "Epoch 12/30\n",
            "86/86 [==============================] - 1s 10ms/step - loss: 0.2922 - accuracy: 0.9004\n",
            "Epoch 13/30\n",
            "86/86 [==============================] - 1s 10ms/step - loss: 0.2798 - accuracy: 0.9088\n",
            "Epoch 14/30\n",
            "86/86 [==============================] - 1s 10ms/step - loss: 0.2674 - accuracy: 0.9132\n",
            "Epoch 15/30\n",
            "86/86 [==============================] - 1s 10ms/step - loss: 0.2571 - accuracy: 0.9113\n",
            "Epoch 16/30\n",
            "86/86 [==============================] - 1s 10ms/step - loss: 0.2604 - accuracy: 0.9110\n",
            "Epoch 17/30\n",
            "86/86 [==============================] - 1s 13ms/step - loss: 0.2416 - accuracy: 0.9193\n",
            "Epoch 18/30\n",
            "86/86 [==============================] - 1s 14ms/step - loss: 0.2326 - accuracy: 0.9204\n",
            "Epoch 19/30\n",
            "86/86 [==============================] - 1s 10ms/step - loss: 0.2205 - accuracy: 0.9281\n",
            "Epoch 20/30\n",
            "86/86 [==============================] - 1s 10ms/step - loss: 0.2114 - accuracy: 0.9299\n",
            "Epoch 21/30\n",
            "86/86 [==============================] - 1s 10ms/step - loss: 0.2095 - accuracy: 0.9317\n",
            "Epoch 22/30\n",
            "86/86 [==============================] - 1s 10ms/step - loss: 0.1991 - accuracy: 0.9317\n",
            "Epoch 23/30\n",
            "86/86 [==============================] - 1s 10ms/step - loss: 0.2007 - accuracy: 0.9331\n",
            "Epoch 24/30\n",
            "86/86 [==============================] - 1s 10ms/step - loss: 0.1881 - accuracy: 0.9408\n",
            "Epoch 25/30\n",
            "86/86 [==============================] - 1s 11ms/step - loss: 0.1804 - accuracy: 0.9444\n",
            "Epoch 26/30\n",
            "86/86 [==============================] - 1s 16ms/step - loss: 0.1754 - accuracy: 0.9455\n",
            "Epoch 27/30\n",
            "86/86 [==============================] - 2s 19ms/step - loss: 0.1681 - accuracy: 0.9502\n",
            "Epoch 28/30\n",
            "86/86 [==============================] - 2s 25ms/step - loss: 0.1686 - accuracy: 0.9477\n",
            "Epoch 29/30\n",
            "86/86 [==============================] - 1s 14ms/step - loss: 0.1709 - accuracy: 0.9444\n",
            "Epoch 30/30\n",
            "86/86 [==============================] - 1s 16ms/step - loss: 0.1504 - accuracy: 0.9578\n"
          ]
        },
        {
          "output_type": "execute_result",
          "data": {
            "text/plain": [
              "<keras.src.callbacks.History at 0x79e9c4995720>"
            ]
          },
          "metadata": {},
          "execution_count": 42
        }
      ]
    },
    {
      "cell_type": "code",
      "source": [
        "model.evaluate(X_test_scaled,y_test)"
      ],
      "metadata": {
        "colab": {
          "base_uri": "https://localhost:8080/"
        },
        "id": "NJq29Rxsbcy0",
        "outputId": "2d9f1784-17dc-4f7c-9ea1-edfe15053cd3"
      },
      "execution_count": 43,
      "outputs": [
        {
          "output_type": "stream",
          "name": "stdout",
          "text": [
            "29/29 [==============================] - 2s 34ms/step - loss: 0.6859 - accuracy: 0.7876\n"
          ]
        },
        {
          "output_type": "execute_result",
          "data": {
            "text/plain": [
              "[0.6859050989151001, 0.7875816822052002]"
            ]
          },
          "metadata": {},
          "execution_count": 43
        }
      ]
    },
    {
      "cell_type": "code",
      "source": [],
      "metadata": {
        "id": "UwoKdJfwdwto"
      },
      "execution_count": null,
      "outputs": []
    }
  ]
}